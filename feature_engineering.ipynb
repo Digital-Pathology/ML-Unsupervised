{
 "cells": [
  {
   "cell_type": "code",
   "execution_count": 1,
   "metadata": {},
   "outputs": [],
   "source": [
    "%matplotlib inline\n",
    "\n",
    "import os\n",
    "import json\n",
    "import pickle\n",
    "\n",
    "import numpy as np\n",
    "import pandas as pd\n",
    "from PIL import Image\n",
    "import matplotlib.pyplot as plt"
   ]
  },
  {
   "cell_type": "code",
   "execution_count": 2,
   "metadata": {},
   "outputs": [],
   "source": [
    "from cell_level import FeatureEngineering, Instance"
   ]
  },
  {
   "cell_type": "code",
   "execution_count": 3,
   "metadata": {},
   "outputs": [
    {
     "data": {
      "text/plain": [
       "<matplotlib.image.AxesImage at 0x7f7b7ebdcac0>"
      ]
     },
     "execution_count": 3,
     "metadata": {},
     "output_type": "execute_result"
    },
    {
     "data": {
      "image/png": "[encoded data removed]",
      "text/plain": [
       "<Figure size 432x288 with 1 Axes>"
      ]
     },
     "metadata": {
      "needs_background": "light"
     },
     "output_type": "display_data"
    }
   ],
   "source": [
    "path_mask = \"/workspaces/dev-container/testing/data/segmentation/mrcnn/masks/eocell-25-0.9554.png\"\n",
    "path_image = \"/workspaces/dev-container/testing/data/CellCrops/eosinophil/25.jpg\"\n",
    "mask = np.array(Image.open(path_mask))\n",
    "image = np.array(Image.open(path_image))\n",
    "plt.imshow(image)"
   ]
  },
  {
   "cell_type": "code",
   "execution_count": 4,
   "metadata": {},
   "outputs": [
    {
     "data": {
      "text/plain": [
       "<matplotlib.image.AxesImage at 0x7f7b7e3b5160>"
      ]
     },
     "execution_count": 4,
     "metadata": {},
     "output_type": "execute_result"
    },
    {
     "data": {
      "image/png": "[encoded data removed]",
      "text/plain": [
       "<Figure size 432x288 with 1 Axes>"
      ]
     },
     "metadata": {
      "needs_background": "light"
     },
     "output_type": "display_data"
    }
   ],
   "source": [
    "plt.imshow(mask)"
   ]
  },
  {
   "cell_type": "code",
   "execution_count": 5,
   "metadata": {},
   "outputs": [],
   "source": [
    "features = FeatureEngineering.FeatureManager(geometric_feature = [\"InsideRadialContact\"])"
   ]
  },
  {
   "cell_type": "code",
   "execution_count": 6,
   "metadata": {},
   "outputs": [
    {
     "name": "stdout",
     "output_type": "stream",
     "text": [
      "[1.   1.   1.   1.   1.   1.   1.   1.   1.   1.   1.41 1.41 1.   1.\n",
      " 2.   2.   2.   2.   2.   2.   2.   2.24 2.   1.   1.   1.41 2.24 3.\n",
      " 3.   3.   3.   3.   3.   3.   2.   1.   1.   1.41 2.24 2.83 3.61 4.\n",
      " 4.   4.   4.   4.   3.   2.   1.   1.   2.   2.83 3.61 4.24 5.   5.\n",
      " 5.   5.   4.   3.   2.   1.   1.   2.   3.   4.   5.   5.66 6.   6.\n",
      " 5.   4.   3.   2.   1.   1.   2.   3.   4.   5.   6.   7.   6.   5.\n",
      " 4.   3.   2.   1.   1.   1.41 2.24 3.16 4.12 5.1  6.08 7.   6.   5.\n",
      " 4.   3.   2.   1.   1.   2.   2.83 3.61 4.47 5.39 6.32 6.71 5.83 5.\n",
      " 4.   3.   2.   1.   1.   2.   3.   4.   5.   5.83 6.71 6.32 5.39 4.47\n",
      " 3.61 2.83 2.   1.   1.   2.   3.   4.   5.   5.83 6.   5.83 5.   4.12\n",
      " 3.16 2.24 1.41 1.   1.   2.   2.83 3.61 4.47 5.   5.   5.   4.47 3.61\n",
      " 2.83 2.   1.   1.   1.41 2.24 3.16 4.   4.   4.   4.   4.   3.16 2.24\n",
      " 1.41 1.   1.   2.   2.83 3.   3.   3.   3.   3.   2.83 2.   1.   1.\n",
      " 1.41 2.   2.   2.   2.   2.   2.   2.   1.41 1.   1.   1.   1.   1.\n",
      " 1.   1.   1.   1.   1.  ]\n",
      "(201,)\n",
      "[1.   1.41 2.   2.24 2.83 3.   3.16 3.61 4.   4.12 4.24 4.47 5.   5.1\n",
      " 5.39 5.66 5.83 6.   6.08 6.32 6.71 7.  ]\n",
      "(201,)\n",
      "[0.14285715 0.14285715 0.14285715 0.14285715 0.14285715 0.14285715\n",
      " 0.14285715 0.14285715 0.14285715 0.14285715 0.20142856 0.20142856\n",
      " 0.14285715 0.14285715 0.2857143  0.2857143  0.2857143  0.2857143\n",
      " 0.2857143  0.2857143  0.2857143  0.32       0.2857143  0.14285715\n",
      " 0.14285715 0.20142856 0.32       0.42857143 0.42857143 0.42857143\n",
      " 0.42857143 0.42857143 0.42857143 0.42857143 0.2857143  0.14285715\n",
      " 0.14285715 0.20142856 0.32       0.4042857  0.5157143  0.5714286\n",
      " 0.5714286  0.5714286  0.5714286  0.5714286  0.42857143 0.2857143\n",
      " 0.14285715 0.14285715 0.2857143  0.4042857  0.5157143  0.60571426\n",
      " 0.71428573 0.71428573 0.71428573 0.71428573 0.5714286  0.42857143\n",
      " 0.2857143  0.14285715 0.14285715 0.2857143  0.42857143 0.5714286\n",
      " 0.71428573 0.8085714  0.85714287 0.85714287 0.71428573 0.5714286\n",
      " 0.42857143 0.2857143  0.14285715 0.14285715 0.2857143  0.42857143\n",
      " 0.5714286  0.71428573 0.85714287 1.         0.85714287 0.71428573\n",
      " 0.5714286  0.42857143 0.2857143  0.14285715 0.14285715 0.20142856\n",
      " 0.32       0.4514286  0.5885714  0.7285714  0.8685714  1.\n",
      " 0.85714287 0.71428573 0.5714286  0.42857143 0.2857143  0.14285715\n",
      " 0.14285715 0.2857143  0.4042857  0.5157143  0.6385714  0.77\n",
      " 0.9028572  0.95857143 0.83285713 0.71428573 0.5714286  0.42857143\n",
      " 0.2857143  0.14285715 0.14285715 0.2857143  0.42857143 0.5714286\n",
      " 0.71428573 0.83285713 0.95857143 0.9028572  0.77       0.6385714\n",
      " 0.5157143  0.4042857  0.2857143  0.14285715 0.14285715 0.2857143\n",
      " 0.42857143 0.5714286  0.71428573 0.83285713 0.85714287 0.83285713\n",
      " 0.71428573 0.5885714  0.4514286  0.32       0.20142856 0.14285715\n",
      " 0.14285715 0.2857143  0.4042857  0.5157143  0.6385714  0.71428573\n",
      " 0.71428573 0.71428573 0.6385714  0.5157143  0.4042857  0.2857143\n",
      " 0.14285715 0.14285715 0.20142856 0.32       0.4514286  0.5714286\n",
      " 0.5714286  0.5714286  0.5714286  0.5714286  0.4514286  0.32\n",
      " 0.20142856 0.14285715 0.14285715 0.2857143  0.4042857  0.42857143\n",
      " 0.42857143 0.42857143 0.42857143 0.42857143 0.4042857  0.2857143\n",
      " 0.14285715 0.14285715 0.20142856 0.2857143  0.2857143  0.2857143\n",
      " 0.2857143  0.2857143  0.2857143  0.2857143  0.20142856 0.14285715\n",
      " 0.14285715 0.14285715 0.14285715 0.14285715 0.14285715 0.14285715\n",
      " 0.14285715 0.14285715 0.14285715]\n",
      "[0.14285715 0.20142856 0.2857143  0.32       0.4042857  0.42857143\n",
      " 0.4514286  0.5157143  0.5714286  0.5885714  0.60571426 0.6385714\n",
      " 0.71428573 0.7285714  0.77       0.8085714  0.83285713 0.85714287\n",
      " 0.8685714  0.9028572  0.95857143 1.        ]\n"
     ]
    }
   ],
   "source": [
    "data = features(Instance.Instance(mask=mask, image=image))"
   ]
  },
  {
   "cell_type": "code",
   "execution_count": 7,
   "metadata": {},
   "outputs": [
    {
     "data": {
      "text/plain": [
       "OrderedDict([('InsideRadialContact0', 0),\n",
       "             ('InsideRadialContact1', 58),\n",
       "             ('InsideRadialContact2', 48),\n",
       "             ('InsideRadialContact3', 32),\n",
       "             ('InsideRadialContact4', 26),\n",
       "             ('InsideRadialContact5', 24),\n",
       "             ('InsideRadialContact6', 13)])"
      ]
     },
     "execution_count": 7,
     "metadata": {},
     "output_type": "execute_result"
    }
   ],
   "source": [
    "data"
   ]
  },
  {
   "cell_type": "code",
   "execution_count": 8,
   "metadata": {},
   "outputs": [
    {
     "data": {
      "text/html": [
       "<div>\n",
       "<style scoped>\n",
       "    .dataframe tbody tr th:only-of-type {\n",
       "        vertical-align: middle;\n",
       "    }\n",
       "\n",
       "    .dataframe tbody tr th {\n",
       "        vertical-align: top;\n",
       "    }\n",
       "\n",
       "    .dataframe thead th {\n",
       "        text-align: right;\n",
       "    }\n",
       "</style>\n",
       "<table border=\"1\" class=\"dataframe\">\n",
       "  <thead>\n",
       "    <tr style=\"text-align: right;\">\n",
       "      <th></th>\n",
       "      <th>InsideRadialContact0</th>\n",
       "      <th>InsideRadialContact1</th>\n",
       "      <th>InsideRadialContact2</th>\n",
       "      <th>InsideRadialContact3</th>\n",
       "      <th>InsideRadialContact4</th>\n",
       "      <th>InsideRadialContact5</th>\n",
       "      <th>InsideRadialContact6</th>\n",
       "    </tr>\n",
       "  </thead>\n",
       "  <tbody>\n",
       "  </tbody>\n",
       "</table>\n",
       "</div>"
      ],
      "text/plain": [
       "Empty DataFrame\n",
       "Columns: [InsideRadialContact0, InsideRadialContact1, InsideRadialContact2, InsideRadialContact3, InsideRadialContact4, InsideRadialContact5, InsideRadialContact6]\n",
       "Index: []"
      ]
     },
     "execution_count": 8,
     "metadata": {},
     "output_type": "execute_result"
    }
   ],
   "source": [
    "dataframe = pd.DataFrame(\n",
    "    columns = list(data.keys())\n",
    ")\n",
    "dataframe"
   ]
  },
  {
   "cell_type": "code",
   "execution_count": 9,
   "metadata": {},
   "outputs": [
    {
     "data": {
      "text/html": [
       "<div>\n",
       "<style scoped>\n",
       "    .dataframe tbody tr th:only-of-type {\n",
       "        vertical-align: middle;\n",
       "    }\n",
       "\n",
       "    .dataframe tbody tr th {\n",
       "        vertical-align: top;\n",
       "    }\n",
       "\n",
       "    .dataframe thead th {\n",
       "        text-align: right;\n",
       "    }\n",
       "</style>\n",
       "<table border=\"1\" class=\"dataframe\">\n",
       "  <thead>\n",
       "    <tr style=\"text-align: right;\">\n",
       "      <th></th>\n",
       "      <th>InsideRadialContact0</th>\n",
       "      <th>InsideRadialContact1</th>\n",
       "      <th>InsideRadialContact2</th>\n",
       "      <th>InsideRadialContact3</th>\n",
       "      <th>InsideRadialContact4</th>\n",
       "      <th>InsideRadialContact5</th>\n",
       "      <th>InsideRadialContact6</th>\n",
       "    </tr>\n",
       "  </thead>\n",
       "  <tbody>\n",
       "    <tr>\n",
       "      <th>0</th>\n",
       "      <td>0</td>\n",
       "      <td>58</td>\n",
       "      <td>48</td>\n",
       "      <td>32</td>\n",
       "      <td>26</td>\n",
       "      <td>24</td>\n",
       "      <td>13</td>\n",
       "    </tr>\n",
       "  </tbody>\n",
       "</table>\n",
       "</div>"
      ],
      "text/plain": [
       "  InsideRadialContact0 InsideRadialContact1 InsideRadialContact2  \\\n",
       "0                    0                   58                   48   \n",
       "\n",
       "  InsideRadialContact3 InsideRadialContact4 InsideRadialContact5  \\\n",
       "0                   32                   26                   24   \n",
       "\n",
       "  InsideRadialContact6  \n",
       "0                   13  "
      ]
     },
     "execution_count": 9,
     "metadata": {},
     "output_type": "execute_result"
    }
   ],
   "source": [
    "dataframe = dataframe.append(data, ignore_index=True)\n",
    "dataframe"
   ]
  },
  {
   "cell_type": "code",
   "execution_count": 10,
   "metadata": {},
   "outputs": [],
   "source": [
    "dataframe.to_csv('temp.csv')"
   ]
  }
 ],
 "metadata": {
  "interpreter": {
   "hash": "d4d1e4263499bec80672ea0156c357c1ee493ec2b1c70f0acce89fc37c4a6abe"
  },
  "kernelspec": {
   "display_name": "Python 3.9.11 ('base')",
   "language": "python",
   "name": "python3"
  },
  "language_info": {
   "codemirror_mode": {
    "name": "ipython",
    "version": 3
   },
   "file_extension": ".py",
   "mimetype": "text/x-python",
   "name": "python",
   "nbconvert_exporter": "python",
   "pygments_lexer": "ipython3",
   "version": "3.9.7"
  },
  "orig_nbformat": 4
 },
 "nbformat": 4,
 "nbformat_minor": 2
}
