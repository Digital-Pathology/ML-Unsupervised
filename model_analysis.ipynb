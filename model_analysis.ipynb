{
 "cells": [
  {
   "cell_type": "code",
   "execution_count": 1,
   "metadata": {},
   "outputs": [],
   "source": [
    "import json\n",
    "import os\n",
    "import random\n",
    "\n",
    "import numpy as np\n",
    "import pandas as pd\n",
    "import pycm"
   ]
  },
  {
   "cell_type": "code",
   "execution_count": 2,
   "metadata": {},
   "outputs": [],
   "source": [
    "from dataset import Dataset, LabelManager\n",
    "from filtration import FilterManager, FilterBlackAndWhite, FilterHSV, FilterFocusMeasure"
   ]
  },
  {
   "cell_type": "code",
   "execution_count": 3,
   "metadata": {},
   "outputs": [],
   "source": [
    "from model_analysis.by_region_analysis_job import WeightRatioAnalysisJob"
   ]
  },
  {
   "cell_type": "code",
   "execution_count": 4,
   "metadata": {},
   "outputs": [
    {
     "name": "stdout",
     "output_type": "stream",
     "text": [
      "preprocessing file /workspaces/dev-container/testing/data/whole_slide_images/train/0/84440T_004.tif\n",
      "preprocessing file /workspaces/dev-container/testing/data/whole_slide_images/train/1/84429T_003.tif\n"
     ]
    },
    {
     "name": "stderr",
     "output_type": "stream",
     "text": [
      "Getting region predictions:   0%|          | 0/2 [00:00<?, ?it/s]"
     ]
    },
    {
     "name": "stdout",
     "output_type": "stream",
     "text": [
      "--> deleting dataset bc h5 file locking\n"
     ]
    },
    {
     "name": "stderr",
     "output_type": "stream",
     "text": [
      "\n"
     ]
    }
   ],
   "source": [
    "try:\n",
    "    imgs_path = \"/workspaces/dev-container/testing/data/whole_slide_images/train\"\n",
    "    dataset = Dataset(\n",
    "        imgs_path,\n",
    "        labels=LabelManager(\n",
    "            imgs_path,\n",
    "            label_postprocessor=lambda path: int(os.path.basename(path))\n",
    "        ),\n",
    "        filtration=FilterManager([\n",
    "            FilterBlackAndWhite(),\n",
    "            FilterHSV(),\n",
    "            FilterFocusMeasure()\n",
    "        ])\n",
    "    )\n",
    "    analysis_job = WeightRatioAnalysisJob(\n",
    "        dataset = dataset,\n",
    "        region_prediction_callback = lambda *args, **kwargs: np.arange(args[0].shape[0])\n",
    "    )\n",
    "    analysis_job.get_region_predictions_from_model(loadingbars=True, loadingbars_ascii=True)\n",
    "finally:\n",
    "    print('--> deleting dataset bc h5 file locking')\n",
    "    try:\n",
    "        del(dataset)\n",
    "    except Exception:\n",
    "        print('--> failed to delete dataset')"
   ]
  },
  {
   "cell_type": "code",
   "execution_count": null,
   "metadata": {},
   "outputs": [],
   "source": [
    "data = pd.read_csv('model_analysis_results_weight_ratio.csv', index_col=False)\n",
    "data.head(5)"
   ]
  },
  {
   "cell_type": "code",
   "execution_count": null,
   "metadata": {},
   "outputs": [],
   "source": [
    "import plotly.graph_objects as go\n",
    "import pandas as pd\n",
    "import numpy as np\n",
    "from scipy.interpolate import griddata\n",
    "\n",
    "x = data['weight_1'] / data['weight_0']\n",
    "y = data['weight_2'] / data['weight_1']\n",
    "z = data['F1_Micro']\n",
    "\n",
    "\n",
    "xi = np.linspace(x.min(), x.max(), 100)\n",
    "yi = np.linspace(y.min(), y.max(), 100)\n",
    "\n",
    "X,Y = np.meshgrid(xi,yi)\n",
    "\n",
    "Z = griddata((x,y),z,(X,Y))\n",
    "\n",
    "fig = go.Figure(go.Surface(x=xi,y=yi,z=Z))\n",
    "\n",
    "fig.update_layout(\n",
    "    title = \"Weight Ratio Analysis: F1 Micro\",\n",
    "    autosize=False,\n",
    "    width = 600, height=400\n",
    ")\n",
    "\n",
    "fig.show()"
   ]
  }
 ],
 "metadata": {
  "interpreter": {
   "hash": "d4d1e4263499bec80672ea0156c357c1ee493ec2b1c70f0acce89fc37c4a6abe"
  },
  "kernelspec": {
   "display_name": "Python 3.9.7 ('base')",
   "language": "python",
   "name": "python3"
  },
  "language_info": {
   "codemirror_mode": {
    "name": "ipython",
    "version": 3
   },
   "file_extension": ".py",
   "mimetype": "text/x-python",
   "name": "python",
   "nbconvert_exporter": "python",
   "pygments_lexer": "ipython3",
   "version": "3.9.7"
  },
  "orig_nbformat": 4
 },
 "nbformat": 4,
 "nbformat_minor": 2
}
