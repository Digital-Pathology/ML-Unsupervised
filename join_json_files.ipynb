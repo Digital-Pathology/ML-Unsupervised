{
 "cells": [
  {
   "cell_type": "code",
   "execution_count": 1,
   "metadata": {},
   "outputs": [],
   "source": [
    "import os\n",
    "import json"
   ]
  },
  {
   "cell_type": "code",
   "execution_count": 2,
   "metadata": {},
   "outputs": [],
   "source": [
    "files_to_join = [\n",
    "    \"output/mild/scoring_data.json\",\n",
    "    \"output/moderate/scoring_data.json\",\n",
    "    \"output/severe/scoring_data.json\"\n",
    "]\n",
    "resulting_file = \"output/scoring_data.json\"\n",
    "\n",
    "missing_file_callback = lambda filepath : print(f\"Missing File --> {fp}\")"
   ]
  },
  {
   "cell_type": "code",
   "execution_count": 3,
   "metadata": {},
   "outputs": [],
   "source": [
    "data = {}\n",
    "for fp in files_to_join:\n",
    "    if not os.path.isfile(fp):\n",
    "        missing_file_callback(fp)\n",
    "        continue\n",
    "    with open(fp) as f:\n",
    "        new_data = json.load(f)\n",
    "        data.update(new_data)\n",
    "write_mode = 'w' if os.path.isfile(resulting_file) else 'x'\n",
    "with open(resulting_file, write_mode) as f:\n",
    "    json.dump(data, f)"
   ]
  }
 ],
 "metadata": {
  "interpreter": {
   "hash": "d4d1e4263499bec80672ea0156c357c1ee493ec2b1c70f0acce89fc37c4a6abe"
  },
  "kernelspec": {
   "display_name": "Python 3.9.7 ('base')",
   "language": "python",
   "name": "python3"
  },
  "language_info": {
   "codemirror_mode": {
    "name": "ipython",
    "version": 3
   },
   "file_extension": ".py",
   "mimetype": "text/x-python",
   "name": "python",
   "nbconvert_exporter": "python",
   "pygments_lexer": "ipython3",
   "version": "3.9.7"
  },
  "orig_nbformat": 4
 },
 "nbformat": 4,
 "nbformat_minor": 2
}
