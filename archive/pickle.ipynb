{
 "cells": [
  {
   "cell_type": "code",
   "execution_count": 2,
   "metadata": {},
   "outputs": [],
   "source": [
    "import os"
   ]
  },
  {
   "cell_type": "code",
   "execution_count": 3,
   "metadata": {},
   "outputs": [],
   "source": [
    "p = \"temp.pickle\"\n",
    "def pickle(obj):\n",
    "    import cloudpickle as pickle\n",
    "    with open(p, ('w' if os.path.exists(p) else 'x')+'b') as f:\n",
    "        pickle.dump(obj, f)\n",
    "def unpickle():\n",
    "    import pickle\n",
    "    with open(p, 'rb') as f:\n",
    "        return pickle.load(f)\n",
    "def test_pickle(obj):\n",
    "    pickle(obj)\n",
    "    unpickle()"
   ]
  },
  {
   "cell_type": "code",
   "execution_count": 11,
   "metadata": {},
   "outputs": [],
   "source": [
    "import stardist\n",
    "from stardist import models\n",
    "class Model:\n",
    "    def initialize_model(self):\n",
    "        self.model = models.StarDist2D.from_pretrained('2D_versatile_he')\n",
    "test_pickle(Model())"
   ]
  },
  {
   "cell_type": "code",
   "execution_count": 12,
   "metadata": {},
   "outputs": [
    {
     "name": "stdout",
     "output_type": "stream",
     "text": [
      "Found model '2D_versatile_he' for 'StarDist2D'.\n",
      "Loading network weights from 'weights_best.h5'.\n",
      "Loading thresholds from 'thresholds.json'.\n",
      "Using default values: prob_thresh=0.692478, nms_thresh=0.3.\n"
     ]
    }
   ],
   "source": [
    "m = unpickle()\n",
    "m.initialize_model()"
   ]
  }
 ],
 "metadata": {
  "interpreter": {
   "hash": "d4d1e4263499bec80672ea0156c357c1ee493ec2b1c70f0acce89fc37c4a6abe"
  },
  "kernelspec": {
   "display_name": "Python 3.9.11 ('base')",
   "language": "python",
   "name": "python3"
  },
  "language_info": {
   "codemirror_mode": {
    "name": "ipython",
    "version": 3
   },
   "file_extension": ".py",
   "mimetype": "text/x-python",
   "name": "python",
   "nbconvert_exporter": "python",
   "pygments_lexer": "ipython3",
   "version": "3.9.11"
  },
  "orig_nbformat": 4
 },
 "nbformat": 4,
 "nbformat_minor": 2
}
