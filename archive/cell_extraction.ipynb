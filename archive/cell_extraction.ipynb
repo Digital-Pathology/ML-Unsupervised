{
 "cells": [
  {
   "cell_type": "code",
   "execution_count": 1,
   "metadata": {},
   "outputs": [],
   "source": [
    "%matplotlib inline\n",
    "\n",
    "import os\n",
    "import json\n",
    "import pickle\n",
    "\n",
    "import matplotlib.pyplot as plt\n",
    "import numpy as np\n",
    "import pandas as pd\n",
    "from PIL import Image\n",
    "from tqdm import tqdm as loadingbar"
   ]
  },
  {
   "cell_type": "code",
   "execution_count": 2,
   "metadata": {},
   "outputs": [],
   "source": [
    "from unified_image_reader import Image\n",
    "from dataset import Dataset, LabelManager, label_extractor\n",
    "from filtration import FilterBlackAndWhite, FilterHSV, FilterFocusMeasure, FilterManager"
   ]
  },
  {
   "cell_type": "code",
   "execution_count": 3,
   "metadata": {},
   "outputs": [],
   "source": [
    "import cell_level"
   ]
  },
  {
   "cell_type": "code",
   "execution_count": 12,
   "metadata": {},
   "outputs": [],
   "source": [
    "def extract_cell_features_from_image(img_path, filtration=None, csv_path='features.csv'):\n",
    "    # get features\n",
    "    features = cell_level.feature_engineering.FeatureManager(as_vector=True)\n",
    "    feature_dataframe = pd.DataFrame(columns = ['RegionNum','CellNum']+list(features.get_empty_feature_set().keys()))\n",
    "    # get model\n",
    "    model_manager = cell_level.segmentation.ModelManager()\n",
    "    model = model_manager.load_model(\"StarDist\")\n",
    "    # set up iterator\n",
    "    region_generator = None\n",
    "    if filtration is None:\n",
    "        img = Image(img_path)\n",
    "        region_generator = loadingbar(enumerate(img), total=img.number_of_regions())\n",
    "    else:\n",
    "        dataset = Dataset(\n",
    "            data_dir = img_path,\n",
    "            labels = LabelManager(img_path, label_extractor.LabelExtractorNoLabels()),\n",
    "            filtration = FilterManager([\n",
    "                FilterBlackAndWhite(),\n",
    "                FilterHSV(),\n",
    "                FilterFocusMeasure()\n",
    "            ])\n",
    "        )\n",
    "        def iterate_over_dataset():\n",
    "            for i in range(len(dataset)):\n",
    "                yield i, dataset[i]\n",
    "        region_generator = loadingbar(iterate_over_dataset(), total=len(dataset))\n",
    "    # iterate over regions\n",
    "    for region_num, region in region_generator:\n",
    "        cells = model.get_instances(region)\n",
    "        for cell_num, cell_instance in loadingbar(enumerate(cells), leave=False):\n",
    "            feature_data = features(cell_instance)\n",
    "            feature_data['RegionNum'] = region_num\n",
    "            feature_data['CellNum'] = cell_num\n",
    "            feature_dataframe.append(feature_data, ignore_index=True)\n",
    "    # save the feature dataframe\n",
    "    feature_dataframe.to_csv(csv_path)\n"
   ]
  },
  {
   "cell_type": "code",
   "execution_count": 13,
   "metadata": {},
   "outputs": [],
   "source": [
    "img_path = \"/workspaces/dev-container/testing/training-simple/test-wsi/0/84429T_003.tif\""
   ]
  },
  {
   "cell_type": "code",
   "execution_count": 14,
   "metadata": {},
   "outputs": [
    {
     "name": "stderr",
     "output_type": "stream",
     "text": [
      "  0%|          | 0/16625 [00:00<?, ?it/s]"
     ]
    },
    {
     "name": "stdout",
     "output_type": "stream",
     "text": [
      "Found model '2D_versatile_he' for 'StarDist2D'.\n",
      "Loading network weights from 'weights_best.h5'.\n",
      "Loading thresholds from 'thresholds.json'.\n",
      "Using default values: prob_thresh=0.692478, nms_thresh=0.3.\n"
     ]
    },
    {
     "name": "stderr",
     "output_type": "stream",
     "text": [
      "100%|██████████| 16625/16625 [1:36:24<00:00,  2.87it/s]\n"
     ]
    }
   ],
   "source": [
    "extract_cell_features_from_image(img_path)"
   ]
  }
 ],
 "metadata": {
  "interpreter": {
   "hash": "d4d1e4263499bec80672ea0156c357c1ee493ec2b1c70f0acce89fc37c4a6abe"
  },
  "kernelspec": {
   "display_name": "Python 3.9.7 ('base')",
   "language": "python",
   "name": "python3"
  },
  "language_info": {
   "codemirror_mode": {
    "name": "ipython",
    "version": 3
   },
   "file_extension": ".py",
   "mimetype": "text/x-python",
   "name": "python",
   "nbconvert_exporter": "python",
   "pygments_lexer": "ipython3",
   "version": "3.9.7"
  },
  "orig_nbformat": 4
 },
 "nbformat": 4,
 "nbformat_minor": 2
}
