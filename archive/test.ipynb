{
 "cells": [
  {
   "cell_type": "code",
   "execution_count": 1,
   "metadata": {},
   "outputs": [],
   "source": [
    "%matplotlib inline\n",
    "\n",
    "import json\n",
    "import os\n",
    "import pickle"
   ]
  },
  {
   "cell_type": "code",
   "execution_count": 2,
   "metadata": {},
   "outputs": [],
   "source": [
    "import cv2 as cv\n",
    "import numpy as np\n",
    "import matplotlib.pyplot as plt\n",
    "from PIL import Image\n",
    "import torch\n",
    "import torch.utils.data\n",
    "import torchvision\n",
    "from torchvision import transforms\n",
    "from torchvision.models.detection.faster_rcnn import FastRCNNPredictor\n",
    "from torchvision.models.detection.mask_rcnn import MaskRCNNPredictor\n",
    "from tqdm import tqdm as loadingbar"
   ]
  },
  {
   "cell_type": "code",
   "execution_count": 3,
   "metadata": {},
   "outputs": [],
   "source": [
    "from Datasets import MoNuSeg, CellCrops\n",
    "import mrcnn"
   ]
  },
  {
   "cell_type": "code",
   "execution_count": 4,
   "metadata": {},
   "outputs": [],
   "source": [
    "model = torch.load(\"/workspaces/dev-container/ML-Unsupervised/mrcnn/model-epochs-90-cpu.model\", map_location='cpu')\n",
    "model.eval()\n",
    "model = mrcnn.model.MyModel(model)"
   ]
  },
  {
   "cell_type": "code",
   "execution_count": 5,
   "metadata": {},
   "outputs": [],
   "source": [
    "cell_crop_dir_all = \"/workspaces/dev-container/testing/data/CellCrops/\"\n",
    "cell_crop_dir = os.path.join(cell_crop_dir_all, \"eosinophil\")\n",
    "cell_crops = os.listdir(cell_crop_dir)\n",
    "cell_crops.sort()\n",
    "def load_cell_crop(filepath):\n",
    "    if cell_crop_dir_all not in filepath:\n",
    "        raise Exception(filepath)\n",
    "    img = Image.open(filepath)\n",
    "    img = transforms.ToTensor()(img)\n",
    "    return img"
   ]
  },
  {
   "cell_type": "code",
   "execution_count": 6,
   "metadata": {},
   "outputs": [
    {
     "name": "stdout",
     "output_type": "stream",
     "text": [
      "/workspaces/dev-container/testing/data/CellCrops/eosinophil/10198.jpg\n"
     ]
    },
    {
     "name": "stderr",
     "output_type": "stream",
     "text": [
      "/opt/conda/lib/python3.9/site-packages/torch/functional.py:445: UserWarning: torch.meshgrid: in an upcoming release, it will be required to pass the indexing argument. (Triggered internally at  /opt/conda/conda-bld/pytorch_1639180549130/work/aten/src/ATen/native/TensorShape.cpp:2157.)\n",
      "  return _VF.meshgrid(tensors, **kwargs)  # type: ignore[attr-defined]\n"
     ]
    }
   ],
   "source": [
    "cell_crop_num = 0\n",
    "cell_crop_path = os.path.join(cell_crop_dir, cell_crops[cell_crop_num])\n",
    "print(cell_crop_path)\n",
    "img = load_cell_crop(cell_crop_path)\n",
    "padded_img, unpadder = CellCrops.get_padded_cell_crop_and_unpadder(img)\n",
    "predictions = model.get_predictions(padded_img)\n",
    "best_instance = predictions[0]"
   ]
  },
  {
   "cell_type": "code",
   "execution_count": 8,
   "metadata": {},
   "outputs": [
    {
     "data": {
      "text/plain": [
       "<matplotlib.image.AxesImage at 0x7fdf04ea2fd0>"
      ]
     },
     "execution_count": 8,
     "metadata": {},
     "output_type": "execute_result"
    },
    {
     "data": {
      "image/png": "[encoded data removed]",
      "text/plain": [
       "<Figure size 432x288 with 1 Axes>"
      ]
     },
     "metadata": {
      "needs_background": "light"
     },
     "output_type": "display_data"
    }
   ],
   "source": [
    "plt.imshow(MoNuSeg.util.correct_axes(img))"
   ]
  },
  {
   "cell_type": "code",
   "execution_count": null,
   "metadata": {},
   "outputs": [],
   "source": [
    "test_mask = predictions.masks[0,0].mul(255).byte()\n",
    "len(np.unique(test_mask))\n",
    "plt.imshow(test_mask)"
   ]
  },
  {
   "cell_type": "code",
   "execution_count": 10,
   "metadata": {},
   "outputs": [
    {
     "data": {
      "text/plain": [
       "<matplotlib.image.AxesImage at 0x7fdf04db5820>"
      ]
     },
     "execution_count": 10,
     "metadata": {},
     "output_type": "execute_result"
    },
    {
     "data": {
      "image/png": "[encoded data removed]",
      "text/plain": [
       "<Figure size 432x288 with 1 Axes>"
      ]
     },
     "metadata": {
      "needs_background": "light"
     },
     "output_type": "display_data"
    }
   ],
   "source": [
    "threshold = 0.1 * 255\n",
    "plt.imshow(unpadder(best_instance.mask >= threshold))"
   ]
  },
  {
   "cell_type": "code",
   "execution_count": null,
   "metadata": {},
   "outputs": [],
   "source": [
    "n = 5\n",
    "print(predictions.scores[:n])\n",
    "print(predictions.boxes[:n])"
   ]
  },
  {
   "cell_type": "code",
   "execution_count": null,
   "metadata": {},
   "outputs": [],
   "source": [
    "#eocells_path = os.path.join(cell_crop_dir_all, \"eosinophil\")\n",
    "#neutrocells_path = os.path.join(cell_crop_dir_all, \"neutrophil\")\n",
    "#eocells = os.listdir(eocells_path)\n",
    "#neutrocells = os.listdir(neutrocells_path)\n",
    "#eocells.sort()\n",
    "#neutrocells.sort()\n",
    "#output_dir = os.path.join(cell_crop_dir_all, \"masks\", \"mrcnn\")\n",
    "#if not os.path.isdir(output_dir): os.mkdir(output_dir)\n",
    "#\n",
    "#threshold = 0.1 * 255\n",
    "#\n",
    "#for eocell in loadingbar(eocells):\n",
    "#    break\n",
    "#    eocell_path = os.path.join(eocells_path, eocell)\n",
    "#    img = transforms.ToTensor()(Image.open(eocell_path))\n",
    "#    padded_img, unpadder = CellCrops.get_padded_cell_crop_and_unpadder(img)\n",
    "#    predictions = get_predictions(padded_img)\n",
    "#    prediction_mask = unpadder(predictions[0])\n",
    "#    prediction_score = predictions.get_scores()[0]\n",
    "#    prediction_path = f\"eocell-{eocell.split('.')[0]}-{'{:4.4f}'.format(prediction_score)}.png\"\n",
    "#    cv.imwrite(os.path.join(output_dir, prediction_path), (prediction_mask >= threshold).astype(int) * 255)\n",
    "#\n",
    "#for neutrocell in loadingbar(neutrocells):\n",
    "#    neutrocell_path = os.path.join(neutrocells_path, neutrocell)\n",
    "#    img = transforms.ToTensor()(Image.open(neutrocell_path))\n",
    "#    padded_img, unpadder = CellCrops.get_padded_cell_crop_and_unpadder(img)\n",
    "#    predictions = get_predictions(padded_img)\n",
    "#    prediction_mask = unpadder(predictions[0])\n",
    "#    prediction_score = predictions.get_scores()[0]\n",
    "#    prediction_path = f\"neutrocell-{neutrocell.split('.')[0]}-{'{:4.4f}'.format(prediction_score)}.png\"\n",
    "#    cv.imwrite(os.path.join(output_dir, prediction_path), (prediction_mask >= threshold).astype(int) * 255)"
   ]
  }
 ],
 "metadata": {
  "interpreter": {
   "hash": "d4d1e4263499bec80672ea0156c357c1ee493ec2b1c70f0acce89fc37c4a6abe"
  },
  "kernelspec": {
   "display_name": "Python 3.9.11 ('base')",
   "language": "python",
   "name": "python3"
  },
  "language_info": {
   "codemirror_mode": {
    "name": "ipython",
    "version": 3
   },
   "file_extension": ".py",
   "mimetype": "text/x-python",
   "name": "python",
   "nbconvert_exporter": "python",
   "pygments_lexer": "ipython3",
   "version": "3.9.11"
  },
  "orig_nbformat": 4
 },
 "nbformat": 4,
 "nbformat_minor": 2
}
