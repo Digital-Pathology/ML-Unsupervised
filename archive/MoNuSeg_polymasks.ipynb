{
 "cells": [
  {
   "cell_type": "code",
   "execution_count": 1,
   "metadata": {},
   "outputs": [],
   "source": [
    "import os\n",
    "from tqdm import tqdm as loadingbar"
   ]
  },
  {
   "cell_type": "code",
   "execution_count": 3,
   "metadata": {},
   "outputs": [],
   "source": [
    "import cv2 as cv"
   ]
  },
  {
   "cell_type": "code",
   "execution_count": 2,
   "metadata": {},
   "outputs": [],
   "source": [
    "from Datasets import MoNuSeg"
   ]
  },
  {
   "cell_type": "code",
   "execution_count": 7,
   "metadata": {},
   "outputs": [
    {
     "name": "stderr",
     "output_type": "stream",
     "text": [
      "100%|██████████| 37/37 [04:20<00:00,  7.04s/it]\n"
     ]
    }
   ],
   "source": [
    "polymask_dir = \"/workspaces/dev-container/ML-Unsupervised/Datasets/MoNuSeg/PolyMasks\"\n",
    "for filename in loadingbar(MoNuSeg.FileReader.files):\n",
    "    polymask = MoNuSeg.FileReader.get_polymask(filename)\n",
    "    polymask_path = os.path.join(polymask_dir, filename + \"-mask-poly.png\")\n",
    "    cv.imwrite(polymask_path, polymask)"
   ]
  }
 ],
 "metadata": {
  "interpreter": {
   "hash": "d4d1e4263499bec80672ea0156c357c1ee493ec2b1c70f0acce89fc37c4a6abe"
  },
  "kernelspec": {
   "display_name": "Python 3.9.11 ('base')",
   "language": "python",
   "name": "python3"
  },
  "language_info": {
   "codemirror_mode": {
    "name": "ipython",
    "version": 3
   },
   "file_extension": ".py",
   "mimetype": "text/x-python",
   "name": "python",
   "nbconvert_exporter": "python",
   "pygments_lexer": "ipython3",
   "version": "3.9.11"
  },
  "orig_nbformat": 4
 },
 "nbformat": 4,
 "nbformat_minor": 2
}
