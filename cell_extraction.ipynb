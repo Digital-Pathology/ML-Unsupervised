{
 "cells": [
  {
   "cell_type": "code",
   "execution_count": 1,
   "metadata": {},
   "outputs": [],
   "source": [
    "%matplotlib inline\n",
    "\n",
    "import os\n",
    "import json\n",
    "import pickle\n",
    "\n",
    "import matplotlib.pyplot as plt\n",
    "import numpy as np\n",
    "import pandas as pd\n",
    "from PIL import Image\n",
    "from tqdm import tqdm as loadingbar"
   ]
  },
  {
   "cell_type": "code",
   "execution_count": 2,
   "metadata": {},
   "outputs": [],
   "source": [
    "from unified_image_reader import Image\n",
    "from dataset import Dataset, LabelManager, label_extractor\n",
    "from filtration import FilterBlackAndWhite, FilterHSV, FilterFocusMeasure, FilterManager"
   ]
  },
  {
   "cell_type": "code",
   "execution_count": 3,
   "metadata": {},
   "outputs": [],
   "source": [
    "import cell_level"
   ]
  },
  {
   "cell_type": "code",
   "execution_count": 4,
   "metadata": {},
   "outputs": [
    {
     "data": {
      "text/html": [
       "<div>\n",
       "<style scoped>\n",
       "    .dataframe tbody tr th:only-of-type {\n",
       "        vertical-align: middle;\n",
       "    }\n",
       "\n",
       "    .dataframe tbody tr th {\n",
       "        vertical-align: top;\n",
       "    }\n",
       "\n",
       "    .dataframe thead th {\n",
       "        text-align: right;\n",
       "    }\n",
       "</style>\n",
       "<table border=\"1\" class=\"dataframe\">\n",
       "  <thead>\n",
       "    <tr style=\"text-align: right;\">\n",
       "      <th></th>\n",
       "      <th>RegionNumFiltered</th>\n",
       "      <th>MeanHSV0</th>\n",
       "      <th>MeanHSV1</th>\n",
       "      <th>MeanHSV2</th>\n",
       "      <th>HueHistogram0</th>\n",
       "      <th>HueHistogram1</th>\n",
       "      <th>HueHistogram2</th>\n",
       "      <th>HueHistogram3</th>\n",
       "      <th>HueHistogram4</th>\n",
       "      <th>HueHistogram5</th>\n",
       "      <th>...</th>\n",
       "      <th>Perimeter0</th>\n",
       "      <th>AreaPerimeter0</th>\n",
       "      <th>InsideRadialContact0</th>\n",
       "      <th>InsideRadialContact1</th>\n",
       "      <th>InsideRadialContact2</th>\n",
       "      <th>InsideRadialContact3</th>\n",
       "      <th>InsideRadialContact4</th>\n",
       "      <th>InsideRadialContact5</th>\n",
       "      <th>InsideRadialContact6</th>\n",
       "      <th>InsideRadialContact7</th>\n",
       "    </tr>\n",
       "  </thead>\n",
       "  <tbody>\n",
       "  </tbody>\n",
       "</table>\n",
       "<p>0 rows × 48 columns</p>\n",
       "</div>"
      ],
      "text/plain": [
       "Empty DataFrame\n",
       "Columns: [RegionNumFiltered, MeanHSV0, MeanHSV1, MeanHSV2, HueHistogram0, HueHistogram1, HueHistogram2, HueHistogram3, HueHistogram4, HueHistogram5, HueHistogram6, HueHistogram7, HueHistogram8, HueHistogram9, HueHistogram10, HueHistogram11, HueHistogram12, HueHistogram13, HueHistogram14, HueHistogram15, HueHistogram16, HueHistogram17, HueHistogram18, HueHistogram19, HueHistogram20, HueHistogram21, HueHistogram22, HueHistogram23, HueHistogram24, HueHistogram25, HueHistogram26, HueHistogram27, HueHistogram28, HueHistogram29, HueHistogram30, HueHistogram31, HueHistogram32, Area0, Perimeter0, AreaPerimeter0, InsideRadialContact0, InsideRadialContact1, InsideRadialContact2, InsideRadialContact3, InsideRadialContact4, InsideRadialContact5, InsideRadialContact6, InsideRadialContact7]\n",
       "Index: []\n",
       "\n",
       "[0 rows x 48 columns]"
      ]
     },
     "execution_count": 4,
     "metadata": {},
     "output_type": "execute_result"
    }
   ],
   "source": [
    "features = cell_level.feature_engineering.FeatureManager(as_vector=True)\n",
    "feature_dataframe = pd.DataFrame(columns = ['RegionNumFiltered']+list(features.get_empty_feature_set().keys()))\n",
    "feature_dataframe"
   ]
  },
  {
   "cell_type": "code",
   "execution_count": null,
   "metadata": {},
   "outputs": [],
   "source": [
    "model_manager = cell_level.segmentation.ModelManager()\n",
    "model = model_manager.load_model(\"StarDist\")"
   ]
  },
  {
   "cell_type": "code",
   "execution_count": 5,
   "metadata": {},
   "outputs": [
    {
     "name": "stdout",
     "output_type": "stream",
     "text": [
      "preprocessing file /workspaces/dev-container/testing/training-simple/test-wsi/0/84429T_003.tif\n"
     ]
    }
   ],
   "source": [
    "imgs_path = \"/workspaces/dev-container/testing/training-simple/test-wsi/0/\"\n",
    "dataset = Dataset(\n",
    "    data_dir = imgs_path,\n",
    "    labels = LabelManager(imgs_path, label_extractor.LabelExtractorNoLabels()),\n",
    "    filtration = FilterManager([\n",
    "        FilterBlackAndWhite(),\n",
    "        FilterHSV(),\n",
    "        FilterFocusMeasure()\n",
    "    ])\n",
    ")"
   ]
  },
  {
   "cell_type": "code",
   "execution_count": null,
   "metadata": {},
   "outputs": [],
   "source": [
    "for region_num in loadingbar(range(len(dataset)), total=len(dataset)):\n",
    "    region, _ = dataset[region_num]\n",
    "    cells = model.get_instances(region)\n",
    "    if len(cells) == 0:\n",
    "        continue\n",
    "    for cell_num, cell_instance in loadingbar(enumerate(cells), leave=False):\n",
    "        feature_data = features(cell_instance)\n",
    "        feature_data['RegionNumFiltered'] = region_num\n",
    "        feature_dataframe = feature_dataframe.append(\n",
    "            feature_data,\n",
    "            ignore_index = True\n",
    "        )\n",
    "feature_dataframe.to_csv('features.csv')"
   ]
  },
  {
   "cell_type": "code",
   "execution_count": 7,
   "metadata": {},
   "outputs": [],
   "source": [
    "group = dataset.filtration_cache.h5file.root._f_get_child('[\"<FilterBlackAndWhite:{\\'filter_threshold\\':0.5,\\'binarization_threshold\\':0.85,\\'rgb_weights\\':[0.2989,0.587,0.114]}>\",\"<FilterHSV:{\\'threshold\\':100}>\",\"<FilterFocusMeasure:{\\'threshold\\':65.0}>\"]')"
   ]
  },
  {
   "cell_type": "code",
   "execution_count": 8,
   "metadata": {},
   "outputs": [
    {
     "data": {
      "text/plain": [
       "/[\"<FilterBlackAndWhite:{'filter_threshold':0.5,'binarization_threshold':0.85,'rgb_weights':[0.2989,0.587,0.114]}>\",\"<FilterHSV:{'threshold':100}>\",\"<FilterFocusMeasure:{'threshold':65.0}>\"]/84429T_003_DOTSYMBOL_tif (Table(16625,)) '84429T_003_DOTSYMBOL_tif'\n",
       "  description := {\n",
       "  \"region_index_base\": Int32Col(shape=(), dflt=0, pos=0),\n",
       "  \"region_index_target\": Int32Col(shape=(), dflt=0, pos=1),\n",
       "  \"filtration_status\": BoolCol(shape=(), dflt=False, pos=2)}\n",
       "  byteorder := 'little'\n",
       "  chunkshape := (7281,)"
      ]
     },
     "execution_count": 8,
     "metadata": {},
     "output_type": "execute_result"
    }
   ],
   "source": [
    "table = group._f_get_child('84429T_003_DOTSYMBOL_tif')\n",
    "table"
   ]
  },
  {
   "cell_type": "code",
   "execution_count": 9,
   "metadata": {},
   "outputs": [
    {
     "data": {
      "text/plain": [
       "False"
      ]
     },
     "execution_count": 9,
     "metadata": {},
     "output_type": "execute_result"
    }
   ],
   "source": [
    "True in table.col(\"filtration_status\")"
   ]
  },
  {
   "cell_type": "code",
   "execution_count": 17,
   "metadata": {},
   "outputs": [
    {
     "name": "stdout",
     "output_type": "stream",
     "text": [
      "{'FilterManager': {True: 0, False: 0}, 'FilterBlackAndWhite': {True: 0, False: 0}, 'FilterHSV': {True: 0, False: 0}, 'FilterFocusMeasure': {True: 0, False: 0}}\n"
     ]
    },
    {
     "name": "stderr",
     "output_type": "stream",
     "text": [
      "  0%|          | 2/16625 [00:00<14:57, 18.52it/s]"
     ]
    },
    {
     "name": "stdout",
     "output_type": "stream",
     "text": [
      "None\n",
      "0 FilterManager\n",
      "None\n",
      "1 FilterManager\n",
      "None\n"
     ]
    },
    {
     "name": "stderr",
     "output_type": "stream",
     "text": [
      "  0%|          | 5/16625 [00:00<11:19, 24.46it/s]"
     ]
    },
    {
     "name": "stdout",
     "output_type": "stream",
     "text": [
      "2 FilterManager\n",
      "None\n",
      "3 FilterManager\n",
      "None\n",
      "4 FilterManager\n",
      "None\n",
      "5 FilterManager\n"
     ]
    },
    {
     "name": "stderr",
     "output_type": "stream",
     "text": [
      "  0%|          | 8/16625 [00:00<10:18, 26.86it/s]"
     ]
    },
    {
     "name": "stdout",
     "output_type": "stream",
     "text": [
      "None\n",
      "6 FilterManager\n",
      "None\n",
      "7 FilterManager\n",
      "None\n",
      "8 FilterManager\n",
      "None\n",
      "9 FilterManager\n"
     ]
    },
    {
     "name": "stderr",
     "output_type": "stream",
     "text": [
      "  0%|          | 11/16625 [00:00<15:02, 18.41it/s]"
     ]
    },
    {
     "name": "stdout",
     "output_type": "stream",
     "text": [
      "None\n",
      "10 FilterManager\n",
      "None\n",
      "11 FilterManager\n",
      "None\n",
      "12 FilterManager\n",
      "None\n"
     ]
    },
    {
     "name": "stderr",
     "output_type": "stream",
     "text": [
      "  0%|          | 14/16625 [00:00<16:02, 17.26it/s]"
     ]
    },
    {
     "name": "stdout",
     "output_type": "stream",
     "text": [
      "13 FilterManager\n",
      "None\n",
      "14 FilterManager\n",
      "None\n",
      "15 FilterManager\n"
     ]
    },
    {
     "name": "stderr",
     "output_type": "stream",
     "text": [
      "  0%|          | 17/16625 [00:00<14:35, 18.97it/s]"
     ]
    },
    {
     "name": "stdout",
     "output_type": "stream",
     "text": [
      "None\n",
      "16 FilterManager\n",
      "None\n",
      "17 FilterManager\n",
      "None\n",
      "18 FilterManager\n"
     ]
    },
    {
     "name": "stderr",
     "output_type": "stream",
     "text": [
      "  0%|          | 20/16625 [00:00<13:10, 21.00it/s]"
     ]
    },
    {
     "name": "stdout",
     "output_type": "stream",
     "text": [
      "None\n",
      "19 FilterManager\n",
      "None\n",
      "20 FilterManager\n",
      "None\n",
      "21 FilterManager\n",
      "None\n",
      "22 FilterManager\n",
      "None\n"
     ]
    },
    {
     "name": "stderr",
     "output_type": "stream",
     "text": [
      "  0%|          | 24/16625 [00:01<13:04, 21.15it/s]"
     ]
    },
    {
     "name": "stdout",
     "output_type": "stream",
     "text": [
      "23 FilterManager\n",
      "None\n",
      "24 FilterManager\n",
      "None\n",
      "25 FilterManager\n"
     ]
    },
    {
     "name": "stderr",
     "output_type": "stream",
     "text": [
      "  0%|          | 27/16625 [00:01<12:29, 22.15it/s]"
     ]
    },
    {
     "name": "stdout",
     "output_type": "stream",
     "text": [
      "None\n",
      "26 FilterManager\n",
      "None\n",
      "27 FilterManager\n",
      "None\n",
      "28 FilterManager\n",
      "None\n"
     ]
    },
    {
     "name": "stderr",
     "output_type": "stream",
     "text": [
      "  0%|          | 31/16625 [00:01<11:07, 24.87it/s]"
     ]
    },
    {
     "name": "stdout",
     "output_type": "stream",
     "text": [
      "29 FilterManager\n",
      "None\n",
      "30 FilterManager\n",
      "None\n",
      "31 FilterManager\n",
      "None\n"
     ]
    },
    {
     "name": "stderr",
     "output_type": "stream",
     "text": [
      "  0%|          | 35/16625 [00:01<10:17, 26.87it/s]"
     ]
    },
    {
     "name": "stdout",
     "output_type": "stream",
     "text": [
      "32 FilterManager\n",
      "None\n",
      "33 FilterManager\n",
      "None\n",
      "34 FilterManager\n",
      "None\n"
     ]
    },
    {
     "name": "stderr",
     "output_type": "stream",
     "text": [
      "  0%|          | 38/16625 [00:01<10:00, 27.60it/s]"
     ]
    },
    {
     "name": "stdout",
     "output_type": "stream",
     "text": [
      "35 FilterManager\n",
      "None\n",
      "36 FilterManager\n",
      "None\n",
      "37 FilterManager\n",
      "None\n",
      "38 FilterManager\n"
     ]
    },
    {
     "name": "stderr",
     "output_type": "stream",
     "text": [
      "  0%|          | 41/16625 [00:01<10:08, 27.27it/s]"
     ]
    },
    {
     "name": "stdout",
     "output_type": "stream",
     "text": [
      "None\n",
      "39 FilterManager\n",
      "None\n",
      "40 FilterManager\n",
      "None\n"
     ]
    },
    {
     "name": "stderr",
     "output_type": "stream",
     "text": [
      "  0%|          | 44/16625 [00:01<09:55, 27.83it/s]"
     ]
    },
    {
     "name": "stdout",
     "output_type": "stream",
     "text": [
      "41 FilterManager\n",
      "None\n",
      "42 FilterManager\n",
      "None\n",
      "43 FilterManager\n",
      "None\n",
      "44 FilterManager\n"
     ]
    },
    {
     "name": "stderr",
     "output_type": "stream",
     "text": [
      "  0%|          | 47/16625 [00:01<09:48, 28.16it/s]"
     ]
    },
    {
     "name": "stdout",
     "output_type": "stream",
     "text": [
      "None\n",
      "45 FilterManager\n",
      "None\n",
      "46 FilterManager\n",
      "None\n"
     ]
    },
    {
     "name": "stderr",
     "output_type": "stream",
     "text": [
      "  0%|          | 50/16625 [00:02<09:42, 28.44it/s]"
     ]
    },
    {
     "name": "stdout",
     "output_type": "stream",
     "text": [
      "47 FilterManager\n",
      "None\n",
      "48 FilterManager\n",
      "None\n",
      "49 FilterManager\n",
      "None\n",
      "50 FilterManager\n"
     ]
    },
    {
     "name": "stderr",
     "output_type": "stream",
     "text": [
      "  0%|          | 53/16625 [00:02<09:43, 28.40it/s]"
     ]
    },
    {
     "name": "stdout",
     "output_type": "stream",
     "text": [
      "None\n",
      "51 FilterManager\n",
      "None\n",
      "52 FilterManager\n",
      "None\n"
     ]
    },
    {
     "name": "stderr",
     "output_type": "stream",
     "text": [
      "  0%|          | 56/16625 [00:02<09:35, 28.79it/s]"
     ]
    },
    {
     "name": "stdout",
     "output_type": "stream",
     "text": [
      "53 FilterManager\n",
      "None\n",
      "54 FilterManager\n",
      "None\n",
      "55 FilterManager\n",
      "None\n",
      "56 FilterManager\n"
     ]
    },
    {
     "name": "stderr",
     "output_type": "stream",
     "text": [
      "  0%|          | 59/16625 [00:02<09:32, 28.91it/s]"
     ]
    },
    {
     "name": "stdout",
     "output_type": "stream",
     "text": [
      "None\n",
      "57 FilterManager\n",
      "None\n",
      "58 FilterManager\n",
      "None\n",
      "59 FilterManager\n"
     ]
    },
    {
     "name": "stderr",
     "output_type": "stream",
     "text": [
      "  0%|          | 62/16625 [00:02<09:27, 29.18it/s]"
     ]
    },
    {
     "name": "stdout",
     "output_type": "stream",
     "text": [
      "None\n",
      "60 FilterManager\n",
      "None\n",
      "61 FilterManager\n",
      "None\n"
     ]
    },
    {
     "name": "stderr",
     "output_type": "stream",
     "text": [
      "  0%|          | 65/16625 [00:02<10:05, 27.33it/s]"
     ]
    },
    {
     "name": "stdout",
     "output_type": "stream",
     "text": [
      "62 FilterManager\n",
      "None\n",
      "63 FilterManager\n",
      "None\n",
      "64 FilterManager\n",
      "None\n"
     ]
    },
    {
     "name": "stderr",
     "output_type": "stream",
     "text": [
      "  0%|          | 68/16625 [00:02<10:36, 25.99it/s]"
     ]
    },
    {
     "name": "stdout",
     "output_type": "stream",
     "text": [
      "65 FilterManager\n",
      "None\n",
      "66 FilterManager\n",
      "None\n",
      "67 FilterManager\n",
      "None\n",
      "68 FilterManager\n",
      "None\n",
      "69 FilterManager\n",
      "None\n",
      "70 FilterManager\n"
     ]
    },
    {
     "name": "stderr",
     "output_type": "stream",
     "text": [
      "  0%|          | 72/16625 [00:02<09:58, 27.68it/s]"
     ]
    },
    {
     "name": "stdout",
     "output_type": "stream",
     "text": [
      "None\n",
      "71 FilterManager\n",
      "None\n",
      "72 FilterManager\n",
      "None\n",
      "73 FilterManager\n",
      "None\n"
     ]
    },
    {
     "name": "stderr",
     "output_type": "stream",
     "text": [
      "  0%|          | 75/16625 [00:02<09:48, 28.13it/s]"
     ]
    },
    {
     "name": "stdout",
     "output_type": "stream",
     "text": [
      "74 FilterManager\n",
      "None\n",
      "75 FilterManager\n",
      "None\n",
      "76 FilterManager\n"
     ]
    },
    {
     "name": "stderr",
     "output_type": "stream",
     "text": [
      "  0%|          | 78/16625 [00:03<09:51, 27.95it/s]"
     ]
    },
    {
     "name": "stdout",
     "output_type": "stream",
     "text": [
      "None\n",
      "77 FilterManager\n",
      "None\n",
      "78 FilterManager\n",
      "None\n",
      "79 FilterManager\n"
     ]
    },
    {
     "name": "stderr",
     "output_type": "stream",
     "text": [
      "  0%|          | 81/16625 [00:03<09:54, 27.81it/s]"
     ]
    },
    {
     "name": "stdout",
     "output_type": "stream",
     "text": [
      "None\n",
      "80 FilterManager\n",
      "None\n",
      "81 FilterManager\n",
      "None\n",
      "82 FilterManager\n"
     ]
    },
    {
     "name": "stderr",
     "output_type": "stream",
     "text": [
      "  1%|          | 84/16625 [00:03<10:01, 27.48it/s]"
     ]
    },
    {
     "name": "stdout",
     "output_type": "stream",
     "text": [
      "None\n",
      "83 FilterManager\n",
      "None\n",
      "84 FilterManager\n",
      "None\n"
     ]
    },
    {
     "name": "stderr",
     "output_type": "stream",
     "text": [
      "  1%|          | 87/16625 [00:03<10:04, 27.34it/s]"
     ]
    },
    {
     "name": "stdout",
     "output_type": "stream",
     "text": [
      "85 FilterManager\n",
      "None\n",
      "86 FilterManager\n",
      "None\n",
      "87 FilterManager\n",
      "None\n",
      "88 FilterManager\n"
     ]
    },
    {
     "name": "stderr",
     "output_type": "stream",
     "text": [
      "  1%|          | 91/16625 [00:03<09:42, 28.37it/s]"
     ]
    },
    {
     "name": "stdout",
     "output_type": "stream",
     "text": [
      "None\n",
      "89 FilterManager\n",
      "None\n",
      "90 FilterManager\n",
      "None\n"
     ]
    },
    {
     "name": "stderr",
     "output_type": "stream",
     "text": [
      "  1%|          | 94/16625 [00:03<09:34, 28.78it/s]"
     ]
    },
    {
     "name": "stdout",
     "output_type": "stream",
     "text": [
      "91 FilterManager\n",
      "None\n",
      "92 FilterManager\n",
      "None\n",
      "93 FilterManager\n",
      "None\n",
      "94 FilterManager\n",
      "None\n"
     ]
    },
    {
     "name": "stderr",
     "output_type": "stream",
     "text": [
      "  1%|          | 98/16625 [00:03<09:18, 29.59it/s]"
     ]
    },
    {
     "name": "stdout",
     "output_type": "stream",
     "text": [
      "95 FilterManager\n",
      "None\n",
      "96 FilterManager\n",
      "None\n",
      "97 FilterManager\n"
     ]
    },
    {
     "name": "stderr",
     "output_type": "stream",
     "text": [
      "  1%|          | 101/16625 [00:03<09:23, 29.30it/s]"
     ]
    },
    {
     "name": "stdout",
     "output_type": "stream",
     "text": [
      "None\n",
      "98 FilterManager\n",
      "None\n",
      "99 FilterManager\n",
      "None\n",
      "100 FilterManager\n",
      "None\n"
     ]
    },
    {
     "name": "stderr",
     "output_type": "stream",
     "text": [
      "  1%|          | 104/16625 [00:03<09:33, 28.82it/s]"
     ]
    },
    {
     "name": "stdout",
     "output_type": "stream",
     "text": [
      "101 FilterManager\n",
      "None\n",
      "102 FilterManager\n",
      "None\n",
      "103 FilterManager\n"
     ]
    },
    {
     "name": "stderr",
     "output_type": "stream",
     "text": [
      "  1%|          | 104/16625 [00:04<10:36, 25.97it/s]\n"
     ]
    },
    {
     "name": "stdout",
     "output_type": "stream",
     "text": [
      "None\n"
     ]
    },
    {
     "ename": "KeyboardInterrupt",
     "evalue": "",
     "output_type": "error",
     "traceback": [
      "\u001b[0;31m---------------------------------------------------------------------------\u001b[0m",
      "\u001b[0;31mKeyboardInterrupt\u001b[0m                         Traceback (most recent call last)",
      "\u001b[0;32m/tmp/ipykernel_1217/2075192670.py\u001b[0m in \u001b[0;36m<module>\u001b[0;34m\u001b[0m\n\u001b[1;32m     21\u001b[0m     \u001b[0;32mfor\u001b[0m \u001b[0mf\u001b[0m \u001b[0;32min\u001b[0m \u001b[0mall_filters\u001b[0m\u001b[0;34m:\u001b[0m\u001b[0;34m\u001b[0m\u001b[0;34m\u001b[0m\u001b[0m\n\u001b[1;32m     22\u001b[0m         \u001b[0mfilter_specific_status_tracker\u001b[0m \u001b[0;34m=\u001b[0m \u001b[0mstatuses\u001b[0m\u001b[0;34m[\u001b[0m\u001b[0mtype\u001b[0m\u001b[0;34m(\u001b[0m\u001b[0mf\u001b[0m\u001b[0;34m)\u001b[0m\u001b[0;34m.\u001b[0m\u001b[0m__name__\u001b[0m\u001b[0;34m]\u001b[0m\u001b[0;34m\u001b[0m\u001b[0;34m\u001b[0m\u001b[0m\n\u001b[0;32m---> 23\u001b[0;31m         \u001b[0mstatus\u001b[0m \u001b[0;34m=\u001b[0m \u001b[0mf\u001b[0m\u001b[0;34m(\u001b[0m\u001b[0mregion\u001b[0m\u001b[0;34m)\u001b[0m\u001b[0;34m\u001b[0m\u001b[0;34m\u001b[0m\u001b[0m\n\u001b[0m\u001b[1;32m     24\u001b[0m         \u001b[0;32mif\u001b[0m \u001b[0mstatus\u001b[0m \u001b[0;32mis\u001b[0m \u001b[0;32mNone\u001b[0m\u001b[0;34m:\u001b[0m\u001b[0;34m\u001b[0m\u001b[0;34m\u001b[0m\u001b[0m\n\u001b[1;32m     25\u001b[0m             \u001b[0mprint\u001b[0m\u001b[0;34m(\u001b[0m\u001b[0mi\u001b[0m\u001b[0;34m,\u001b[0m \u001b[0mtype\u001b[0m\u001b[0;34m(\u001b[0m\u001b[0mf\u001b[0m\u001b[0;34m)\u001b[0m\u001b[0;34m.\u001b[0m\u001b[0m__name__\u001b[0m\u001b[0;34m)\u001b[0m\u001b[0;34m\u001b[0m\u001b[0;34m\u001b[0m\u001b[0m\n",
      "\u001b[0;32m/workspaces/dev-container/Filtration/src/filtration/filter_manager.py\u001b[0m in \u001b[0;36m__call__\u001b[0;34m(self, region)\u001b[0m\n\u001b[1;32m     30\u001b[0m         \u001b[0;34m:\u001b[0m\u001b[0mtype\u001b[0m \u001b[0mregion\u001b[0m\u001b[0;34m:\u001b[0m \u001b[0mnp\u001b[0m\u001b[0;34m.\u001b[0m\u001b[0mndarray\u001b[0m\u001b[0;34m\u001b[0m\u001b[0;34m\u001b[0m\u001b[0m\n\u001b[1;32m     31\u001b[0m         \"\"\"        \n\u001b[0;32m---> 32\u001b[0;31m         \u001b[0mself\u001b[0m\u001b[0;34m.\u001b[0m\u001b[0mfilter\u001b[0m\u001b[0;34m(\u001b[0m\u001b[0mregion\u001b[0m\u001b[0;34m)\u001b[0m\u001b[0;34m\u001b[0m\u001b[0;34m\u001b[0m\u001b[0m\n\u001b[0m\u001b[1;32m     33\u001b[0m \u001b[0;34m\u001b[0m\u001b[0m\n\u001b[1;32m     34\u001b[0m     \u001b[0;32mdef\u001b[0m \u001b[0m__str__\u001b[0m\u001b[0;34m(\u001b[0m\u001b[0mself\u001b[0m\u001b[0;34m)\u001b[0m\u001b[0;34m:\u001b[0m\u001b[0;34m\u001b[0m\u001b[0;34m\u001b[0m\u001b[0m\n",
      "\u001b[0;32m/workspaces/dev-container/Filtration/src/filtration/filter_manager.py\u001b[0m in \u001b[0;36mfilter\u001b[0;34m(self, region)\u001b[0m\n\u001b[1;32m     73\u001b[0m         \u001b[0;34m:\u001b[0m\u001b[0mrtype\u001b[0m\u001b[0;34m:\u001b[0m \u001b[0mbool\u001b[0m\u001b[0;34m\u001b[0m\u001b[0;34m\u001b[0m\u001b[0m\n\u001b[1;32m     74\u001b[0m         \"\"\"        \n\u001b[0;32m---> 75\u001b[0;31m         \u001b[0;32mreturn\u001b[0m \u001b[0mreduce\u001b[0m\u001b[0;34m(\u001b[0m\u001b[0;32mlambda\u001b[0m \u001b[0mp\u001b[0m\u001b[0;34m,\u001b[0m \u001b[0mq\u001b[0m\u001b[0;34m:\u001b[0m \u001b[0mp\u001b[0m \u001b[0;32mand\u001b[0m \u001b[0mq\u001b[0m\u001b[0;34m,\u001b[0m \u001b[0;34m[\u001b[0m\u001b[0mfilter\u001b[0m\u001b[0;34m.\u001b[0m\u001b[0mfilter\u001b[0m\u001b[0;34m(\u001b[0m\u001b[0mregion\u001b[0m\u001b[0;34m)\u001b[0m \u001b[0;32mfor\u001b[0m \u001b[0mfilter\u001b[0m \u001b[0;32min\u001b[0m \u001b[0mself\u001b[0m\u001b[0;34m.\u001b[0m\u001b[0mfilters\u001b[0m\u001b[0;34m]\u001b[0m\u001b[0;34m)\u001b[0m\u001b[0;34m\u001b[0m\u001b[0;34m\u001b[0m\u001b[0m\n\u001b[0m",
      "\u001b[0;32m/workspaces/dev-container/Filtration/src/filtration/filter_manager.py\u001b[0m in \u001b[0;36m<listcomp>\u001b[0;34m(.0)\u001b[0m\n\u001b[1;32m     73\u001b[0m         \u001b[0;34m:\u001b[0m\u001b[0mrtype\u001b[0m\u001b[0;34m:\u001b[0m \u001b[0mbool\u001b[0m\u001b[0;34m\u001b[0m\u001b[0;34m\u001b[0m\u001b[0m\n\u001b[1;32m     74\u001b[0m         \"\"\"        \n\u001b[0;32m---> 75\u001b[0;31m         \u001b[0;32mreturn\u001b[0m \u001b[0mreduce\u001b[0m\u001b[0;34m(\u001b[0m\u001b[0;32mlambda\u001b[0m \u001b[0mp\u001b[0m\u001b[0;34m,\u001b[0m \u001b[0mq\u001b[0m\u001b[0;34m:\u001b[0m \u001b[0mp\u001b[0m \u001b[0;32mand\u001b[0m \u001b[0mq\u001b[0m\u001b[0;34m,\u001b[0m \u001b[0;34m[\u001b[0m\u001b[0mfilter\u001b[0m\u001b[0;34m.\u001b[0m\u001b[0mfilter\u001b[0m\u001b[0;34m(\u001b[0m\u001b[0mregion\u001b[0m\u001b[0;34m)\u001b[0m \u001b[0;32mfor\u001b[0m \u001b[0mfilter\u001b[0m \u001b[0;32min\u001b[0m \u001b[0mself\u001b[0m\u001b[0;34m.\u001b[0m\u001b[0mfilters\u001b[0m\u001b[0;34m]\u001b[0m\u001b[0;34m)\u001b[0m\u001b[0;34m\u001b[0m\u001b[0;34m\u001b[0m\u001b[0m\n\u001b[0m",
      "\u001b[0;32m/workspaces/dev-container/Filtration/src/filtration/filter.py\u001b[0m in \u001b[0;36mfilter\u001b[0;34m(self, region)\u001b[0m\n\u001b[1;32m     84\u001b[0m         \u001b[0;34m:\u001b[0m\u001b[0mrtype\u001b[0m\u001b[0;34m:\u001b[0m \u001b[0mbool\u001b[0m\u001b[0;34m\u001b[0m\u001b[0;34m\u001b[0m\u001b[0m\n\u001b[1;32m     85\u001b[0m         \"\"\"        \n\u001b[0;32m---> 86\u001b[0;31m         \u001b[0mhsv_img\u001b[0m \u001b[0;34m=\u001b[0m \u001b[0mself\u001b[0m\u001b[0;34m.\u001b[0m\u001b[0mconvert_rgb_to_hsv\u001b[0m\u001b[0;34m(\u001b[0m\u001b[0mregion\u001b[0m\u001b[0;34m)\u001b[0m\u001b[0;34m\u001b[0m\u001b[0;34m\u001b[0m\u001b[0m\n\u001b[0m\u001b[1;32m     87\u001b[0m         \u001b[0mhue\u001b[0m \u001b[0;34m=\u001b[0m \u001b[0mhsv_img\u001b[0m\u001b[0;34m[\u001b[0m\u001b[0;34m:\u001b[0m\u001b[0;34m,\u001b[0m \u001b[0;34m:\u001b[0m\u001b[0;34m,\u001b[0m \u001b[0;36m0\u001b[0m\u001b[0;34m]\u001b[0m\u001b[0;34m\u001b[0m\u001b[0;34m\u001b[0m\u001b[0m\n\u001b[1;32m     88\u001b[0m         \u001b[0;32mreturn\u001b[0m \u001b[0mnp\u001b[0m\u001b[0;34m.\u001b[0m\u001b[0mmean\u001b[0m\u001b[0;34m(\u001b[0m\u001b[0mhue\u001b[0m\u001b[0;34m)\u001b[0m \u001b[0;34m>\u001b[0m \u001b[0mself\u001b[0m\u001b[0;34m.\u001b[0m\u001b[0mthreshold\u001b[0m\u001b[0;34m\u001b[0m\u001b[0;34m\u001b[0m\u001b[0m\n",
      "\u001b[0;32m/workspaces/dev-container/Filtration/src/filtration/filter.py\u001b[0m in \u001b[0;36mconvert_rgb_to_hsv\u001b[0;34m(self, region)\u001b[0m\n\u001b[1;32m     97\u001b[0m         \u001b[0;34m:\u001b[0m\u001b[0mrtype\u001b[0m\u001b[0;34m:\u001b[0m \u001b[0mnp\u001b[0m\u001b[0;34m.\u001b[0m\u001b[0mndarray\u001b[0m\u001b[0;34m\u001b[0m\u001b[0;34m\u001b[0m\u001b[0m\n\u001b[1;32m     98\u001b[0m         \"\"\"        \n\u001b[0;32m---> 99\u001b[0;31m         \u001b[0;32mreturn\u001b[0m \u001b[0mcv2\u001b[0m\u001b[0;34m.\u001b[0m\u001b[0mcvtColor\u001b[0m\u001b[0;34m(\u001b[0m\u001b[0mregion\u001b[0m\u001b[0;34m,\u001b[0m \u001b[0mcv2\u001b[0m\u001b[0;34m.\u001b[0m\u001b[0mCOLOR_RGB2HSV\u001b[0m\u001b[0;34m)\u001b[0m\u001b[0;34m\u001b[0m\u001b[0;34m\u001b[0m\u001b[0m\n\u001b[0m\u001b[1;32m    100\u001b[0m \u001b[0;34m\u001b[0m\u001b[0m\n\u001b[1;32m    101\u001b[0m \u001b[0;34m\u001b[0m\u001b[0m\n",
      "\u001b[0;31mKeyboardInterrupt\u001b[0m: "
     ]
    }
   ],
   "source": [
    "from unified_image_reader import Image\n",
    "from filtration import FilterBlackAndWhite, FilterHSV, FilterFocusMeasure, FilterManager\n",
    "from tqdm import tqdm as loadingbar\n",
    "\n",
    "filtermanager = FilterManager([\n",
    "    FilterBlackAndWhite(),\n",
    "    FilterHSV(),\n",
    "    FilterFocusMeasure()\n",
    "])\n",
    "filterblackandwhite = FilterBlackAndWhite()\n",
    "filterhsv = FilterHSV()\n",
    "filterfocusmeasure = FilterFocusMeasure()\n",
    "\n",
    "all_filters = [filtermanager, filterblackandwhite, filterhsv, filterfocusmeasure]\n",
    "statuses = {type(f).__name__: (lambda : {True: 0, False: 0})() for f in all_filters}\n",
    "print(statuses)\n",
    "\n",
    "img_path = \"/workspaces/dev-container/testing/training-simple/test-wsi/0/84429T_003.tif\"\n",
    "for i, region in loadingbar(enumerate(Image(img_path)), total = Image(img_path).number_of_regions()):\n",
    "    for f in all_filters:\n",
    "        filter_specific_status_tracker = statuses[type(f).__name__]\n",
    "        status = f(region)\n",
    "        if status is None: raise Exception(i, type(f).__name__)\n",
    "        filter_specific_status_tracker[f(region)] += 1\n",
    "\n",
    "print(statuses)"
   ]
  },
  {
   "cell_type": "code",
   "execution_count": null,
   "metadata": {},
   "outputs": [],
   "source": [
    "type(FilterFocusMeasure()).__name__"
   ]
  },
  {
   "cell_type": "code",
   "execution_count": null,
   "metadata": {},
   "outputs": [],
   "source": [
    "plt.imshow(region)\n",
    "print(region.shape)\n",
    "print(region_num)\n",
    "print(cell_num)\n",
    "print(cell_instance.image.shape, cell_instance.mask.shape)\n",
    "print(cell_instance.data['score'])"
   ]
  },
  {
   "cell_type": "code",
   "execution_count": null,
   "metadata": {},
   "outputs": [],
   "source": [
    "plt.imshow(cell_instance.image)"
   ]
  },
  {
   "cell_type": "code",
   "execution_count": null,
   "metadata": {},
   "outputs": [],
   "source": [
    "plt.imshow(cell_instance.mask)"
   ]
  },
  {
   "cell_type": "code",
   "execution_count": null,
   "metadata": {},
   "outputs": [],
   "source": [
    "feature_dataframe"
   ]
  }
 ],
 "metadata": {
  "interpreter": {
   "hash": "d4d1e4263499bec80672ea0156c357c1ee493ec2b1c70f0acce89fc37c4a6abe"
  },
  "kernelspec": {
   "display_name": "Python 3.9.7 ('base')",
   "language": "python",
   "name": "python3"
  },
  "language_info": {
   "codemirror_mode": {
    "name": "ipython",
    "version": 3
   },
   "file_extension": ".py",
   "mimetype": "text/x-python",
   "name": "python",
   "nbconvert_exporter": "python",
   "pygments_lexer": "ipython3",
   "version": "3.9.7"
  },
  "orig_nbformat": 4
 },
 "nbformat": 4,
 "nbformat_minor": 2
}
